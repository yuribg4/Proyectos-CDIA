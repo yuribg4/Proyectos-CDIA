{
  "nbformat": 4,
  "nbformat_minor": 0,
  "metadata": {
    "colab": {
      "provenance": []
    },
    "kernelspec": {
      "name": "python3",
      "display_name": "Python 3"
    },
    "language_info": {
      "name": "python"
    }
  },
  "cells": [
    {
      "cell_type": "code",
      "execution_count": null,
      "metadata": {
        "id": "gMUbJxrl0fJn"
      },
      "outputs": [],
      "source": [
        "#Elabore una clase que tenga 3 metodos: LEER LOS DATOS, REALIZAR EL PROCESO, IMPRIMIR LOS RESULTADOS.\n",
        "\n",
        "#El programa deberá leer en una lista las calificaciones de 10 alumnos y sus nombres.\n",
        "\n",
        "#En el proceso deberá obtener el promedio grupal de calificación y la lista de los alumnos con promedio mayor a 9.5\n",
        "\n",
        "#En otro metodo diferente deberá imprimir los resultados.\n",
        "\n",
        "#Grabe su programa en GitHub y compartalo en esta actividad pegando la URL"
      ]
    },
    {
      "cell_type": "code",
      "source": [
        "class calificaciones:\n",
        "    def leer_datos(self):\n",
        "        self.alumnos = []\n",
        "        self.calificaciones = []\n",
        "\n",
        "        for i in range(10):\n",
        "            alumno = input(f\"Introduce el nombre del alumno {i+1}: \")\n",
        "            calificacion = float(input(f\"Introduce la calificación de {alumno}: \"))\n",
        "\n",
        "            self.alumnos.append(alumno)\n",
        "            self.calificaciones.append(calificacion)\n",
        "\n",
        "    def Realizar_proceso(self):\n",
        "        self.promedio_cal = sum(self.calificaciones) / len(self.calificaciones)\n",
        "        self.alumnos_may_95 = [self.alumnos[i] for i in range(len(self.calificaciones)) if self.calificaciones[i] > 9.5]\n",
        "\n",
        "    def imprimir_resultados(self):\n",
        "        print(\"El Promedio Del Grupo es:\", self.promedio_cal)\n",
        "        print(\"Los Alumnos Con Promedio Mayor A 9.5 Son:\", self.alumnos_may_95)\n",
        "\n",
        "\n",
        "calif = calificaciones()\n",
        "calif.leer_datos()\n",
        "calif.Realizar_proceso()\n",
        "calif.imprimir_resultados()"
      ],
      "metadata": {
        "id": "4rciDCzj1kGv",
        "colab": {
          "base_uri": "https://localhost:8080/"
        },
        "outputId": "d8981403-12b7-4d46-c739-22a3e5832513"
      },
      "execution_count": 6,
      "outputs": [
        {
          "output_type": "stream",
          "name": "stdout",
          "text": [
            "Introduce el nombre del alumno 1: beto\n",
            "Introduce la calificación de beto: 10\n",
            "Introduce el nombre del alumno 2: hugo\n",
            "Introduce la calificación de hugo: 9\n",
            "Introduce el nombre del alumno 3: jesus\n",
            "Introduce la calificación de jesus: 9.6\n",
            "Introduce el nombre del alumno 4: yuren\n",
            "Introduce la calificación de yuren: 8\n",
            "Introduce el nombre del alumno 5: cesar\n",
            "Introduce la calificación de cesar: 6\n",
            "Introduce el nombre del alumno 6: moises\n",
            "Introduce la calificación de moises: 7\n",
            "Introduce el nombre del alumno 7: joseph\n",
            "Introduce la calificación de joseph: 7\n",
            "Introduce el nombre del alumno 8: erick\n",
            "Introduce la calificación de erick: 6\n",
            "Introduce el nombre del alumno 9: luis\n",
            "Introduce la calificación de luis: 9\n",
            "Introduce el nombre del alumno 10: jose\n",
            "Introduce la calificación de jose: 10\n",
            "El Promedio Del Grupo es: 8.16\n",
            "Los Alumnos Con Promedio Mayor A 9.5 Son: ['beto', 'jesus', 'jose']\n"
          ]
        }
      ]
    }
  ]
}