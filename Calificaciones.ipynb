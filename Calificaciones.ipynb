{
  "nbformat": 4,
  "nbformat_minor": 0,
  "metadata": {
    "colab": {
      "provenance": []
    },
    "kernelspec": {
      "name": "python3",
      "display_name": "Python 3"
    },
    "language_info": {
      "name": "python"
    }
  },
  "cells": [
    {
      "cell_type": "code",
      "execution_count": null,
      "metadata": {
        "id": "gMUbJxrl0fJn"
      },
      "outputs": [],
      "source": [
        "#Elabore una clase que tenga 3 metodos: LEER LOS DATOS, REALIZAR EL PROCESO, IMPRIMIR LOS RESULTADOS.\n",
        "\n",
        "#El programa deberá leer en una lista las calificaciones de 10 alumnos y sus nombres.\n",
        "\n",
        "#En el proceso deberá obtener el promedio grupal de calificación y la lista de los alumnos con promedio mayor a 9.5\n",
        "\n",
        "#En otro metodo diferente deberá imprimir los resultados.\n",
        "\n",
        "#Grabe su programa en GitHub y compartalo en esta actividad pegando la URL"
      ]
    },
    {
      "cell_type": "code",
      "source": [
        "class calificaciones:\n",
        "  def leer_datos(self):\n",
        "    self.alumnos = [\"Joseph\",\"Yuren\",\"Daniel\",\"Javier\",\"Jesus\",\"ALberto\",\"Gael\",\"Brandon\",\"Alejandro\",\"Cesar\"]\n",
        "    self.calificaciones = [8.2,9,6,7.8,9.6,10,9,10,9.8,9.9]\n",
        "  def Realizar_proceso(self):\n",
        "    self.promedio_cal = sum(self.calificaciones)/len(self.calificaciones)\n",
        "    self.alumnos_may_95 = [self.alumnos[i] for i in range (len(self.calificaciones)) if self.calificaciones[i] > 9.5]\n",
        "  def imprimir_resultados(self):\n",
        "    print(\"El Promedio Del Grupo es:\" , self.promedio_cal)\n",
        "    print(\"Los Alumnos Con Promedio MAyor A 9.5 Son \", self.alumnos_may_95)\n",
        "\n",
        "grupo = calificaciones()\n",
        "grupo.leer_datos()\n",
        "grupo.Realizar_proceso()\n",
        "grupo.imprimir_resultados()"
      ],
      "metadata": {
        "id": "4rciDCzj1kGv",
        "colab": {
          "base_uri": "https://localhost:8080/"
        },
        "outputId": "9ebc429e-3ec9-4135-a177-7afec748de3a"
      },
      "execution_count": 9,
      "outputs": [
        {
          "output_type": "stream",
          "name": "stdout",
          "text": [
            "El Promedio Del Grupo es: 8.93\n",
            "Los Alumnos Con Promedio MAyor A 9.5 Son  ['Jesus', 'ALberto', 'Brandon', 'Alejandro', 'Cesar']\n"
          ]
        }
      ]
    }
  ]
}