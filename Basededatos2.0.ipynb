{
 "cells": [
  {
   "cell_type": "code",
   "execution_count": 1,
   "metadata": {},
   "outputs": [],
   "source": [
    "import sqlite3\n",
    "\n",
    "def crear_base():\n",
    "    conexion = sqlite3.connect(\"BasedeDatos.db\")\n",
    "    cursor = conexion.cursor()\n",
    "\n",
    "    cursor.execute(\"\"\"\n",
    "    CREATE TABLE IF NOT EXISTS Datos(\n",
    "        ID INTEGER PRIMARY KEY AUTOINCREMENT,\n",
    "        Nombre TEXT,\n",
    "        Matricula INTEGER,\n",
    "        Carrera TEXT\n",
    "    )\n",
    "    \"\"\")\n"
   ]
  },
  {
   "cell_type": "code",
   "execution_count": 6,
   "metadata": {},
   "outputs": [],
   "source": [
    "\n",
    "def insertar_datos(nombre, matricula, carrera):\n",
    "    conexion = sqlite3.connect(\"BasedeDatos.db\")\n",
    "    cursor = conexion.cursor()\n",
    "\n",
    "    cursor.execute(\"\"\"\n",
    "    INSERT INTO Datos(Nombre, Matricula, Carrera)\n",
    "    VALUES(?, ?, ?)\n",
    "    \"\"\", (nombre, matricula, carrera))\n",
    "\n",
    "    conexion.commit()\n",
    "    conexion.close()\n"
   ]
  },
  {
   "cell_type": "code",
   "execution_count": 7,
   "metadata": {},
   "outputs": [],
   "source": [
    "def mostrar_datos():\n",
    "    conexion = sqlite3.connect(\"BasedeDatos.db\")\n",
    "    cursor = conexion.cursor()\n",
    "\n",
    "    cursor.execute(\"SELECT * FROM Datos\")\n",
    "    registros = cursor.fetchall()\n",
    "\n",
    "    for fila in registros:\n",
    "        print(fila)\n",
    "\n",
    "    conexion.close()\n"
   ]
  },
  {
   "cell_type": "code",
   "execution_count": 8,
   "metadata": {},
   "outputs": [
    {
     "name": "stdout",
     "output_type": "stream",
     "text": [
      "(1, 'Carlos', 2316901000, 'CDIA')\n",
      "(2, 'Ana', 2316904112, 'INFO')\n",
      "(3, 'Luis', 2316909090, 'MECA')\n"
     ]
    }
   ],
   "source": [
    "\n",
    "crear_base()\n",
    "\n",
    "insertar_datos(\"Carlos\", 2316901000, \"CDIA\")\n",
    "insertar_datos(\"Ana\", 2316904112, \"INFO\")\n",
    "insertar_datos(\"Luis\", 2316909090, \"MECA\")\n",
    "\n",
    "mostrar_datos()\n",
    "\n"
   ]
  }
 ],
 "metadata": {
  "kernelspec": {
   "display_name": "base",
   "language": "python",
   "name": "python3"
  },
  "language_info": {
   "codemirror_mode": {
    "name": "ipython",
    "version": 3
   },
   "file_extension": ".py",
   "mimetype": "text/x-python",
   "name": "python",
   "nbconvert_exporter": "python",
   "pygments_lexer": "ipython3",
   "version": "3.12.4"
  }
 },
 "nbformat": 4,
 "nbformat_minor": 2
}
