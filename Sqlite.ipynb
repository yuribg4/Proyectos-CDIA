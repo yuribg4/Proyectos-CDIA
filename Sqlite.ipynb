{
 "cells": [
  {
   "cell_type": "code",
   "execution_count": 1,
   "metadata": {},
   "outputs": [],
   "source": [
    "import sqlite3\n",
    "\n",
    "def crear_base():\n",
    "    conexion = sqlite3.connect(\"BasedeDatos.db\")\n",
    "    cursor = conexion.cursor()\n",
    "\n",
    "    cursor.execute(\"\"\"\n",
    "    CREATE TABLE Datos(\n",
    "        ID INTEGER PRIMARY KEY AUTOINCREMENT,\n",
    "        Nombre TEXT,\n",
    "        Matricula INTEGER,\n",
    "        Carrera TEXT\n",
    "    )\n",
    "    \"\"\")\n"
   ]
  },
  {
   "cell_type": "code",
   "execution_count": 2,
   "metadata": {},
   "outputs": [],
   "source": [
    "def insertar_datos(nombre, matricula, carrera):\n",
    "    conexion = sqlite3.connect(\"BasedeDatos.db\")\n",
    "    cursor = conexion.cursor()\n",
    "\n",
    "    cursor.execute(\"\"\"\n",
    "    INSERT INTO Datos(Nombre, Matricula, Carrera)\n",
    "    VALUES(?, ?, ?)\n",
    "    \"\"\", (nombre, matricula, carrera))\n",
    "\n",
    "    conexion.commit()\n",
    "    conexion.close()"
   ]
  },
  {
   "cell_type": "code",
   "execution_count": 3,
   "metadata": {},
   "outputs": [],
   "source": [
    "def mostrar_datos():\n",
    "    conexion = sqlite3.connect(\"BasedeDatos.db\")\n",
    "    cursor = conexion.cursor()\n",
    "\n",
    "    cursor.execute(\"SELECT * FROM Datos\")\n",
    "    registros = cursor.fetchall()\n",
    "\n",
    "    for fila in registros:\n",
    "        print(fila)\n",
    "\n",
    "    conexion.close()"
   ]
  },
  {
   "cell_type": "code",
   "execution_count": 4,
   "metadata": {},
   "outputs": [
    {
     "name": "stdout",
     "output_type": "stream",
     "text": [
      "(1, 'Carlos', 2316901000, 'CDIA')\n",
      "(2, 'Ana', 2316904112, 'INFO')\n",
      "(3, 'Luis', 2316909090, 'MECA')\n"
     ]
    }
   ],
   "source": [
    "crear_base()\n",
    "\n",
    "insertar_datos(\"Carlos\", 2316901000, \"CDIA\")\n",
    "insertar_datos(\"Ana\", 2316904112, \"INFO\")\n",
    "insertar_datos(\"Luis\", 2316909090, \"MECA\")\n",
    "\n",
    "mostrar_datos()"
   ]
  },
  {
   "cell_type": "code",
   "execution_count": 5,
   "metadata": {},
   "outputs": [],
   "source": [
    "def modificar_dato(id, nuevo_nombre, nueva_matricula, nueva_carrera):\n",
    "    conexion = sqlite3.connect(\"BasedeDatos.db\")\n",
    "    cursor = conexion.cursor()\n",
    "\n",
    "    cursor.execute(\"\"\"\n",
    "    UPDATE Datos\n",
    "    SET Nombre = ?, Matricula = ?, Carrera = ?\n",
    "    WHERE ID = ?\n",
    "    \"\"\", (nuevo_nombre, nueva_matricula, nueva_carrera, id))\n",
    "\n",
    "    conexion.commit()\n",
    "    conexion.close()\n",
    "    "
   ]
  },
  {
   "cell_type": "code",
   "execution_count": 6,
   "metadata": {},
   "outputs": [],
   "source": [
    "modificar_dato(1, \"Carlos Alberto\", 2316901000, \"CDIA\")"
   ]
  },
  {
   "cell_type": "code",
   "execution_count": 7,
   "metadata": {},
   "outputs": [
    {
     "name": "stdout",
     "output_type": "stream",
     "text": [
      "(1, 'Carlos Alberto', 2316901000, 'CDIA')\n",
      "(2, 'Ana', 2316904112, 'INFO')\n",
      "(3, 'Luis', 2316909090, 'MECA')\n"
     ]
    }
   ],
   "source": [
    "mostrar_datos()"
   ]
  },
  {
   "cell_type": "code",
   "execution_count": 8,
   "metadata": {},
   "outputs": [],
   "source": [
    "def eliminar_dato(id):\n",
    "    conexion = sqlite3.connect(\"BasedeDatos.db\")\n",
    "    cursor = conexion.cursor()\n",
    "\n",
    "    cursor.execute(\"\"\"\n",
    "    DELETE FROM Datos\n",
    "    WHERE ID = ?\n",
    "    \"\"\", (id,))\n",
    "\n",
    "    conexion.commit()\n",
    "    conexion.close()"
   ]
  },
  {
   "cell_type": "code",
   "execution_count": 9,
   "metadata": {},
   "outputs": [],
   "source": [
    "eliminar_dato(3)"
   ]
  },
  {
   "cell_type": "code",
   "execution_count": 10,
   "metadata": {},
   "outputs": [
    {
     "name": "stdout",
     "output_type": "stream",
     "text": [
      "(1, 'Carlos Alberto', 2316901000, 'CDIA')\n",
      "(2, 'Ana', 2316904112, 'INFO')\n"
     ]
    }
   ],
   "source": [
    "mostrar_datos()"
   ]
  }
 ],
 "metadata": {
  "kernelspec": {
   "display_name": "base",
   "language": "python",
   "name": "python3"
  },
  "language_info": {
   "codemirror_mode": {
    "name": "ipython",
    "version": 3
   },
   "file_extension": ".py",
   "mimetype": "text/x-python",
   "name": "python",
   "nbconvert_exporter": "python",
   "pygments_lexer": "ipython3",
   "version": "3.12.4"
  }
 },
 "nbformat": 4,
 "nbformat_minor": 2
}
