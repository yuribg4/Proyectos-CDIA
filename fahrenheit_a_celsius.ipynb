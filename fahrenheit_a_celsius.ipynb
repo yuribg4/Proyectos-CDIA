{
  "nbformat": 4,
  "nbformat_minor": 0,
  "metadata": {
    "colab": {
      "provenance": []
    },
    "kernelspec": {
      "name": "python3",
      "display_name": "Python 3"
    },
    "language_info": {
      "name": "python"
    }
  },
  "cells": [
    {
      "cell_type": "code",
      "execution_count": 2,
      "metadata": {
        "colab": {
          "base_uri": "https://localhost:8080/"
        },
        "id": "697XiXXvEaFf",
        "outputId": "01722f48-d5eb-451a-db9c-91fd0e7a5e5b"
      },
      "outputs": [
        {
          "output_type": "stream",
          "name": "stdout",
          "text": [
            "Fahrenheit: [80, 72, 95, 82, 79, 72, 85]\n",
            "Celsius: [26.666666666666668, 22.22222222222222, 35.0, 27.77777777777778, 26.11111111111111, 22.22222222222222, 29.444444444444443]\n"
          ]
        }
      ],
      "source": [
        "def f_a_c(g):\n",
        "  return (g - 32)* 5/9\n",
        "\n",
        "temp= [80, 72, 95, 82, 79, 72, 85]\n",
        "temp_c=[f_a_c(g) for g in temp]\n",
        "\n",
        "print(\"Fahrenheit:\",temp)\n",
        "print(\"Celsius:\",temp_c)"
      ]
    }
  ]
}