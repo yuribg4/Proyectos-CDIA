{
 "cells": [
  {
   "cell_type": "code",
   "execution_count": null,
   "id": "0888d90e",
   "metadata": {},
   "outputs": [],
   "source": [
    "import _sqlite3 "
   ]
  },
  {
   "cell_type": "code",
   "execution_count": 15,
   "id": "4ce520a8",
   "metadata": {},
   "outputs": [],
   "source": [
    "conectar = _sqlite3.connect ('BasedeDatos')"
   ]
  },
  {
   "cell_type": "code",
   "execution_count": 16,
   "id": "3b97fa01",
   "metadata": {},
   "outputs": [],
   "source": [
    "k = conectar.cursor()"
   ]
  },
  {
   "cell_type": "code",
   "execution_count": null,
   "id": "de98ed47",
   "metadata": {},
   "outputs": [
    {
     "ename": "OperationalError",
     "evalue": "table basededatos already exists",
     "output_type": "error",
     "traceback": [
      "\u001b[31m---------------------------------------------------------------------------\u001b[39m",
      "\u001b[31mOperationalError\u001b[39m                          Traceback (most recent call last)",
      "\u001b[36mCell\u001b[39m\u001b[36m \u001b[39m\u001b[32mIn[17]\u001b[39m\u001b[32m, line 1\u001b[39m\n\u001b[32m----> \u001b[39m\u001b[32m1\u001b[39m \u001b[43mk\u001b[49m\u001b[43m.\u001b[49m\u001b[43mexecute\u001b[49m\u001b[43m(\u001b[49m\u001b[33;43m\"\"\"\u001b[39;49m\u001b[33;43mCREATE TABLE basededatos (\u001b[39;49m\n\u001b[32m      2\u001b[39m \u001b[33;43m        nombre TEXT,\u001b[39;49m\n\u001b[32m      3\u001b[39m \u001b[33;43m        edad INTEGER,\u001b[39;49m\n\u001b[32m      4\u001b[39m \u001b[33;43m        estatura REAL\u001b[39;49m\n\u001b[32m      5\u001b[39m \u001b[33;43m)\u001b[39;49m\u001b[33;43m\"\"\"\u001b[39;49m\u001b[43m)\u001b[49m\n",
      "\u001b[31mOperationalError\u001b[39m: table basededatos already exists"
     ]
    }
   ],
   "source": [
    "k.execute(\"\"\"CREATE TABLE basededatos (\n",
    "        nombre TEXT,\n",
    "        edad INTEGER,\n",
    "        estatura REAL\n",
    ")\"\"\")\n",
    "\n"
   ]
  },
  {
   "cell_type": "code",
   "execution_count": null,
   "id": "e9a39f22",
   "metadata": {},
   "outputs": [],
   "source": [
    "estudiantes = [\n",
    "    ('Gael',17,1.80),\n",
    "    ('Hugo',17,1.67),\n",
    "    ('jose',17,1.90)\n",
    "]"
   ]
  },
  {
   "cell_type": "code",
   "execution_count": 19,
   "id": "ce572108",
   "metadata": {},
   "outputs": [
    {
     "data": {
      "text/plain": [
       "<sqlite3.Cursor at 0x25d4d5d87c0>"
      ]
     },
     "execution_count": 19,
     "metadata": {},
     "output_type": "execute_result"
    }
   ],
   "source": [
    "k.execute(\"INSERT INTO basededatos VALUES ('beto',17,1.90)\")\n",
    "k.executemany(\"INSERT INTO basededatos VALUES (?,?,?)\", estudiantes)"
   ]
  },
  {
   "cell_type": "code",
   "execution_count": 20,
   "id": "71381e07",
   "metadata": {},
   "outputs": [
    {
     "name": "stdout",
     "output_type": "stream",
     "text": [
      "[('beto', 17, 1.9), ('Gael', 17, 1.8), ('Hugo', 17, 1.67), ('Gael', 17, 1.9)]\n"
     ]
    }
   ],
   "source": [
    "k.execute(\"SELECT * FROM basededatos\")\n",
    "print(k.fetchall())"
   ]
  },
  {
   "cell_type": "code",
   "execution_count": 13,
   "id": "1cff06a2",
   "metadata": {},
   "outputs": [],
   "source": [
    "conectar.commit()\n",
    "conectar.close()"
   ]
  }
 ],
 "metadata": {
  "kernelspec": {
   "display_name": "Python 3",
   "language": "python",
   "name": "python3"
  },
  "language_info": {
   "codemirror_mode": {
    "name": "ipython",
    "version": 3
   },
   "file_extension": ".py",
   "mimetype": "text/x-python",
   "name": "python",
   "nbconvert_exporter": "python",
   "pygments_lexer": "ipython3",
   "version": "3.11.9"
  }
 },
 "nbformat": 4,
 "nbformat_minor": 5
}
