{
  "nbformat": 4,
  "nbformat_minor": 0,
  "metadata": {
    "colab": {
      "provenance": []
    },
    "kernelspec": {
      "name": "python3",
      "display_name": "Python 3"
    },
    "language_info": {
      "name": "python"
    }
  },
  "cells": [
    {
      "cell_type": "code",
      "execution_count": 3,
      "metadata": {
        "id": "fwpPqsh5izOe"
      },
      "outputs": [],
      "source": [
        "dt = {\n",
        "    \"Nombre\": \"Luis Angel Yuren Benitez Gonzalez\",\n",
        "    \"Matricula\" : 2316901103,\n",
        "    \"Edad\" : 17,\n",
        "    \"Peso\" : 75,\n",
        "    \"Telefono\": 3112500919,\n",
        "    \"Domicilio\" : \"Avenida Mexico #8\",\n",
        "    \"Carrera\" : \"Ciencia De Datos E Inteligencia Artificial\"\n",
        "}\n"
      ]
    },
    {
      "cell_type": "code",
      "source": [
        "print(dt['Nombre'])"
      ],
      "metadata": {
        "colab": {
          "base_uri": "https://localhost:8080/"
        },
        "id": "4sUY-mcok8Co",
        "outputId": "54aa0336-d5d3-4017-c84c-58f0bc571c7c"
      },
      "execution_count": 12,
      "outputs": [
        {
          "output_type": "stream",
          "name": "stdout",
          "text": [
            "Luis Angel Yuren Benitez Gonzalez\n"
          ]
        }
      ]
    },
    {
      "cell_type": "code",
      "source": [
        "print(dt)"
      ],
      "metadata": {
        "colab": {
          "base_uri": "https://localhost:8080/"
        },
        "id": "rgeI1h_4mmrO",
        "outputId": "11bbf4b6-b5a1-4d34-a14d-732e7a117475"
      },
      "execution_count": 20,
      "outputs": [
        {
          "output_type": "stream",
          "name": "stdout",
          "text": [
            "{'Nombre': 'Benitez Gonzalez Luis Angel Yuren', 'Matricula': 2316901103, 'Edad': 17, 'Peso': 75, 'Telefono': 3112500919, 'Domicilio': 'Avenida Mexico #8', 'Carrera': 'Ciencia De Datos E Inteligencia Artificial'}\n"
          ]
        }
      ]
    },
    {
      "cell_type": "code",
      "source": [
        "dt['Nombre']= \"Benitez Gonzalez Luis Angel Yuren\"\n",
        "print(dt)"
      ],
      "metadata": {
        "colab": {
          "base_uri": "https://localhost:8080/"
        },
        "id": "bimRnpQzlpsf",
        "outputId": "e6de90c0-deef-4fec-aaf9-53534986b1aa"
      },
      "execution_count": 18,
      "outputs": [
        {
          "output_type": "stream",
          "name": "stdout",
          "text": [
            "{'Nombre': 'Benitez Gonzalez Luis Angel Yuren', 'Matricula': 2316901103, 'Edad': 17, 'Peso': 75, 'Telefono': 3112500919, 'Domicilio': 'Avenida Mexico #8', 'Carrera': 'Ciencia De Datos E Inteligencia Artificial'}\n"
          ]
        }
      ]
    },
    {
      "cell_type": "code",
      "source": [
        "dt['Carrera']"
      ],
      "metadata": {
        "colab": {
          "base_uri": "https://localhost:8080/",
          "height": 35
        },
        "id": "5Js7L3b4mNqf",
        "outputId": "98fbefcf-d122-4e4b-e8d4-a407665b676a"
      },
      "execution_count": 23,
      "outputs": [
        {
          "output_type": "execute_result",
          "data": {
            "text/plain": [
              "'Ciencia De Datos E Inteligencia Artificial'"
            ],
            "application/vnd.google.colaboratory.intrinsic+json": {
              "type": "string"
            }
          },
          "metadata": {},
          "execution_count": 23
        }
      ]
    },
    {
      "cell_type": "code",
      "source": [
        "dt['Domicilio']"
      ],
      "metadata": {
        "colab": {
          "base_uri": "https://localhost:8080/",
          "height": 35
        },
        "id": "8zbrqTdor6Bl",
        "outputId": "08fa458d-7660-419f-ec4c-d757b67200b8"
      },
      "execution_count": 24,
      "outputs": [
        {
          "output_type": "execute_result",
          "data": {
            "text/plain": [
              "'Avenida Mexico #8'"
            ],
            "application/vnd.google.colaboratory.intrinsic+json": {
              "type": "string"
            }
          },
          "metadata": {},
          "execution_count": 24
        }
      ]
    },
    {
      "cell_type": "code",
      "source": [
        "dt['Edad']"
      ],
      "metadata": {
        "colab": {
          "base_uri": "https://localhost:8080/"
        },
        "id": "8MCQFNsksLd9",
        "outputId": "f00b1b0b-60b0-4839-c218-ee8a1374c4af"
      },
      "execution_count": 25,
      "outputs": [
        {
          "output_type": "execute_result",
          "data": {
            "text/plain": [
              "17"
            ]
          },
          "metadata": {},
          "execution_count": 25
        }
      ]
    },
    {
      "cell_type": "code",
      "source": [
        "dt['Peso']"
      ],
      "metadata": {
        "colab": {
          "base_uri": "https://localhost:8080/"
        },
        "id": "VChsEG6jsNPV",
        "outputId": "ff4359bd-f2dd-478b-dd45-13461a3719f6"
      },
      "execution_count": 26,
      "outputs": [
        {
          "output_type": "execute_result",
          "data": {
            "text/plain": [
              "75"
            ]
          },
          "metadata": {},
          "execution_count": 26
        }
      ]
    },
    {
      "cell_type": "code",
      "source": [
        "dt['Telefono']"
      ],
      "metadata": {
        "colab": {
          "base_uri": "https://localhost:8080/"
        },
        "id": "W3LTwDknsOXc",
        "outputId": "25e439dc-3dc4-4fbc-d57b-ae2d35da2302"
      },
      "execution_count": 27,
      "outputs": [
        {
          "output_type": "execute_result",
          "data": {
            "text/plain": [
              "3112500919"
            ]
          },
          "metadata": {},
          "execution_count": 27
        }
      ]
    },
    {
      "cell_type": "code",
      "source": [
        "dt['Matricula']"
      ],
      "metadata": {
        "colab": {
          "base_uri": "https://localhost:8080/"
        },
        "id": "-wgSeEL3sRKt",
        "outputId": "2b0949f2-a0a8-4c94-8a91-f314bcd61c8f"
      },
      "execution_count": 28,
      "outputs": [
        {
          "output_type": "execute_result",
          "data": {
            "text/plain": [
              "2316901103"
            ]
          },
          "metadata": {},
          "execution_count": 28
        }
      ]
    }
  ]
}