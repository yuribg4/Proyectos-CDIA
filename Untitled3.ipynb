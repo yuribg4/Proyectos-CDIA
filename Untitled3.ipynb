{
  "nbformat": 4,
  "nbformat_minor": 0,
  "metadata": {
    "colab": {
      "provenance": []
    },
    "kernelspec": {
      "name": "python3",
      "display_name": "Python 3"
    },
    "language_info": {
      "name": "python"
    }
  },
  "cells": [
    {
      "cell_type": "code",
      "source": [
        "#2.-El programa debe crear un objeto ALUMNO, con propiedades tales como: nombre, edad, peso, promedio y metodos: inscripción, asesorias.\n",
        "#3.-Los metodos solo imprimiran un mensaje."
      ],
      "metadata": {
        "id": "_BCETRQd5xD3"
      },
      "execution_count": null,
      "outputs": []
    },
    {
      "cell_type": "code",
      "source": [
        "class Alumno():\n",
        "    nombre = \"Luis Angel\"\n",
        "    edad = 17\n",
        "    peso = 75\n",
        "    promedio = 9\n",
        "    inscrito = False\n",
        "    asesorado = False\n",
        "\n",
        "    def inscribirse(self):\n",
        "        self.inscrito = True\n",
        "        print(f\"{self.nombre} ha sido inscrito correctamente.\")\n",
        "\n",
        "    def asesoria(self):\n",
        "        self.asesorado = True\n",
        "        print(f\"{self.nombre} ha recibido asesoría.\")\n",
        "\n",
        "al = ALumno()\n"
      ],
      "metadata": {
        "id": "YcOhIZwn72-_"
      },
      "execution_count": 5,
      "outputs": []
    },
    {
      "cell_type": "code",
      "source": [
        "print(\"El Nombre Del ALumno Es:\",al.nombre)\n",
        "print(\"LA Edad Del ALumno Es :\", al.edad)\n",
        "print(\"EL Peso Del ALumno Es: \",al.peso)\n",
        "print(\"EL Promedio DEl Alumno Es :\",al.promedio)\n",
        "alumno1 = Alumno()\n",
        "alumno1.inscribirse()\n",
        "alumno1.asesoria()"
      ],
      "metadata": {
        "colab": {
          "base_uri": "https://localhost:8080/"
        },
        "id": "1AZ_lVmu74Xu",
        "outputId": "ebe0c017-5e3f-4dca-a08b-233ab0c38a75"
      },
      "execution_count": 9,
      "outputs": [
        {
          "output_type": "stream",
          "name": "stdout",
          "text": [
            "El Nombre Del ALumno Es: Luis Angel\n",
            "LA Edad Del ALumno Es : 17\n",
            "EL Peso Del ALumno Es:  75\n",
            "EL Promedio DEl Alumno Es : 9\n",
            "Luis Angel ha sido inscrito correctamente.\n",
            "Luis Angel ha recibido asesoría.\n"
          ]
        }
      ]
    }
  ]
}